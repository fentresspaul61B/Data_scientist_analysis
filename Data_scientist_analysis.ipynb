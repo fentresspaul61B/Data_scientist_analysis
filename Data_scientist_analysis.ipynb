{
 "cells": [
  {
   "cell_type": "code",
   "execution_count": 1,
   "metadata": {},
   "outputs": [],
   "source": [
    "import pandas as pd\n",
    "from datascience import *\n",
    "import numpy as np\n",
    "import matplotlib.pyplot as plt\n",
    "import matplotlib.patches as patches\n",
    "from scipy import *\n",
    "%matplotlib inline\n",
    "\n"
   ]
  },
  {
   "cell_type": "markdown",
   "metadata": {},
   "source": [
    "# Step 1: Ask\n",
    "## It’s impossible to solve a problem if you don’t know what it is. These are some things to consider:\n",
    "\n",
    "#### Define the problem you’re trying to solve \n",
    "\n",
    "Do I need a masters to be a data scientist? Does this answer satisfy:\n",
    "\n",
    "### A better more specific question would be:\n",
    "How does education level, number of intership and research posotions, and work experience affect my chances of landing a data science job. \n",
    "\n",
    "\n",
    "#### Make sure you fully understand the stakeholder’s expectations\n",
    "\n",
    "The stake holders in this case are myself, and other berkeley data science students, and I want to provide information so we can make a informed decision on where to alocate our time, money, and focus, in order to land a data science position. \n",
    "\n",
    "#### Focus on the actual problem and avoid any distractions\n",
    "#### Collaborate with stakeholders and keep an open line of communication\n",
    "#### Take a step back and see the whole situation in context"
   ]
  },
  {
   "cell_type": "code",
   "execution_count": 2,
   "metadata": {},
   "outputs": [
    {
     "name": "stdout",
     "output_type": "stream",
     "text": [
      "Processing ./.cache/pip/wheels/82/e4/64/dd790d424818bc2f59c11471a1eee5dc8cfcd3f8ee8c4812fa/matplotlib_venn-0.11.6-py3-none-any.whl\n",
      "Requirement already satisfied: matplotlib in /opt/conda/lib/python3.8/site-packages (from matplotlib-venn) (3.3.3)\n",
      "Requirement already satisfied: scipy in /opt/conda/lib/python3.8/site-packages (from matplotlib-venn) (1.6.0)\n",
      "Requirement already satisfied: numpy in /opt/conda/lib/python3.8/site-packages (from matplotlib-venn) (1.19.5)\n",
      "Requirement already satisfied: pyparsing!=2.0.4,!=2.1.2,!=2.1.6,>=2.0.3 in /opt/conda/lib/python3.8/site-packages (from matplotlib->matplotlib-venn) (2.4.7)\n",
      "Requirement already satisfied: pillow>=6.2.0 in /opt/conda/lib/python3.8/site-packages (from matplotlib->matplotlib-venn) (8.1.0)\n",
      "Requirement already satisfied: python-dateutil>=2.1 in /opt/conda/lib/python3.8/site-packages (from matplotlib->matplotlib-venn) (2.8.1)\n",
      "Requirement already satisfied: cycler>=0.10 in /opt/conda/lib/python3.8/site-packages (from matplotlib->matplotlib-venn) (0.10.0)\n",
      "Requirement already satisfied: kiwisolver>=1.0.1 in /opt/conda/lib/python3.8/site-packages (from matplotlib->matplotlib-venn) (1.3.1)\n",
      "Requirement already satisfied: six>=1.5 in /opt/conda/lib/python3.8/site-packages (from python-dateutil>=2.1->matplotlib->matplotlib-venn) (1.15.0)\n",
      "Installing collected packages: matplotlib-venn\n",
      "Successfully installed matplotlib-venn-0.11.6\n",
      "Note: you may need to restart the kernel to use updated packages.\n"
     ]
    }
   ],
   "source": [
    "pip install matplotlib-venn"
   ]
  },
  {
   "cell_type": "markdown",
   "metadata": {},
   "source": [
    "# Step 2: Prepare \n",
    "You will decide what data you need to collect in order to answer your questions and how to organize it so that it is useful. You might use your business task to decide: \n",
    "\n",
    "#### What metrics to measure\n",
    "I want to measure common metrics among data scientists including level of education,previous job experience, internships, research experience etc. \n",
    "#### Locate data in your database\n",
    "I used an application called \"Linked Helper\", which can be used to scrape LinkedIn profile data. I searched \"Data Scientist\" under \"People\" and scraped the first 798 profiles. \n",
    "\n",
    "Link to application: https://www.linkedhelper.com\n",
    "#### Create security measures to protect that data\n",
    "## Questions to ask yourself in this step: \n",
    "#### What do I need to figure out how to solve this problem?\n",
    "To solve this problem, I want to quantify the uncertinaty of the different paths to become a data scientist, to make an informed data driven decision. For example, I noticed that 40% of data scientists have had experience as analysts or jobs related to analytics. Therefore becoming an analyst first, and transitioning into data science could be another valid, but cheaper path. \n",
    "#### What research do I need to do?\n",
    "\n",
    "I would like to build a joint distrubtion or conditional probability tree, to see how degree level, internships, and work experience affects the chance of landing a data science job. Therefore I need to figure out first what statistical method I could use to obtain the results I want, and figure out the dependence of my data. "
   ]
  },
  {
   "cell_type": "code",
   "execution_count": 3,
   "metadata": {},
   "outputs": [],
   "source": [
    "# all_data = Table().read_table(\"LinkedIn_scraped_data_jupyter.csv\")\n",
    "# all_data.show(2)"
   ]
  },
  {
   "cell_type": "markdown",
   "metadata": {},
   "source": [
    "# The Data:"
   ]
  },
  {
   "cell_type": "code",
   "execution_count": 4,
   "metadata": {},
   "outputs": [
    {
     "data": {
      "text/html": [
       "<table border=\"1\" class=\"dataframe\">\n",
       "    <thead>\n",
       "        <tr>\n",
       "            <th>id</th> <th>public_id</th> <th>hash_id</th> <th>member_id</th> <th>sn_member_id</th> <th>sn_hash_id</th> <th>r_member_id</th> <th>t_hash_id</th> <th>lh_id</th> <th>profile_url</th> <th>email</th> <th>full_name</th> <th>first_name</th> <th>last_name</th> <th>original_first_name</th> <th>original_last_name</th> <th>custom_first_name</th> <th>custom_last_name</th> <th>avatar</th> <th>headline</th> <th>location_name</th> <th>industry</th> <th>summary</th> <th>address</th> <th>birthday</th> <th>badges_premium</th> <th>badges_influencer</th> <th>badges_job_seeker</th> <th>badges_open_link</th> <th>current_company</th> <th>current_company_custom</th> <th>current_company_position</th> <th>current_company_custom_position</th> <th>organization_1</th> <th>organization_id_1</th> <th>organization_url_1</th> <th>organization_title_1</th> <th>organization_start_1</th> <th>organization_end_1</th> <th>organization_description_1</th> <th>organization_location_1</th> <th>organization_website_1</th> <th>organization_domain_1</th> <th>organization_2</th> <th>organization_id_2</th> <th>organization_url_2</th> <th>organization_title_2</th> <th>organization_start_2</th> <th>organization_end_2</th> <th>organization_description_2</th> <th>organization_location_2</th> <th>organization_website_2</th> <th>organization_domain_2</th> <th>organization_3</th> <th>organization_id_3</th> <th>organization_url_3</th> <th>organization_title_3</th> <th>organization_start_3</th> <th>organization_end_3</th> <th>organization_description_3</th> <th>organization_location_3</th> <th>organization_website_3</th> <th>organization_domain_3</th> <th>organization_4</th> <th>organization_id_4</th> <th>organization_url_4</th> <th>organization_title_4</th> <th>organization_start_4</th> <th>organization_end_4</th> <th>organization_description_4</th> <th>organization_location_4</th> <th>organization_website_4</th> <th>organization_domain_4</th> <th>organization_5</th> <th>organization_id_5</th> <th>organization_url_5</th> <th>organization_title_5</th> <th>organization_start_5</th> <th>organization_end_5</th> <th>organization_description_5</th> <th>organization_location_5</th> <th>organization_website_5</th> <th>organization_domain_5</th> <th>organization_6</th> <th>organization_id_6</th> <th>organization_url_6</th> <th>organization_title_6</th> <th>organization_start_6</th> <th>organization_end_6</th> <th>organization_description_6</th> <th>organization_location_6</th> <th>organization_website_6</th> <th>organization_domain_6</th> <th>organization_7</th> <th>organization_id_7</th> <th>organization_url_7</th> <th>organization_title_7</th> <th>organization_start_7</th> <th>organization_end_7</th> <th>organization_description_7</th> <th>organization_location_7</th> <th>organization_website_7</th> <th>organization_domain_7</th> <th>organization_8</th> <th>organization_id_8</th> <th>organization_url_8</th> <th>organization_title_8</th> <th>organization_start_8</th> <th>organization_end_8</th> <th>organization_description_8</th> <th>organization_location_8</th> <th>organization_website_8</th> <th>organization_domain_8</th> <th>organization_9</th> <th>organization_id_9</th> <th>organization_url_9</th> <th>organization_title_9</th> <th>organization_start_9</th> <th>organization_end_9</th> <th>organization_description_9</th> <th>organization_location_9</th> <th>organization_website_9</th> <th>organization_domain_9</th> <th>organization_10</th> <th>organization_id_10</th> <th>organization_url_10</th> <th>organization_title_10</th> <th>organization_start_10</th> <th>organization_end_10</th> <th>organization_description_10</th> <th>organization_location_10</th> <th>organization_website_10</th> <th>organization_domain_10</th> <th>education_1</th> <th>education_degree_1</th> <th>education_fos_1</th> <th>education_start_1</th> <th>education_end_1</th> <th>education_description_1</th> <th>education_2</th> <th>education_degree_2</th> <th>education_fos_2</th> <th>education_start_2</th> <th>education_end_2</th> <th>education_description_2</th> <th>education_3</th> <th>education_degree_3</th> <th>education_fos_3</th> <th>education_start_3</th> <th>education_end_3</th> <th>education_description_3</th> <th>education_4</th> <th>education_degree_4</th> <th>education_fos_4</th> <th>education_start_4</th> <th>education_end_4</th> <th>education_description_4</th> <th>education_5</th> <th>education_degree_5</th> <th>education_fos_5</th> <th>education_start_5</th> <th>education_end_5</th> <th>education_description_5</th> <th>education_6</th> <th>education_degree_6</th> <th>education_fos_6</th> <th>education_start_6</th> <th>education_end_6</th> <th>education_description_6</th> <th>education_7</th> <th>education_degree_7</th> <th>education_fos_7</th> <th>education_start_7</th> <th>education_end_7</th> <th>education_description_7</th> <th>education_8</th> <th>education_degree_8</th> <th>education_fos_8</th> <th>education_start_8</th> <th>education_end_8</th> <th>education_description_8</th> <th>education_9</th> <th>education_degree_9</th> <th>education_fos_9</th> <th>education_start_9</th> <th>education_end_9</th> <th>education_description_9</th> <th>education_10</th> <th>education_degree_10</th> <th>education_fos_10</th> <th>education_start_10</th> <th>education_end_10</th> <th>education_description_10</th> <th>language_1</th> <th>language_proficiency_1</th> <th>language_2</th> <th>language_proficiency_2</th> <th>language_3</th> <th>language_proficiency_3</th> <th>languages</th> <th>skills</th> <th>twitters</th> <th>phone_1</th> <th>phone_type_1</th> <th>phone_2</th> <th>phone_type_2</th> <th>messenger_1</th> <th>messenger_provider_1</th> <th>messenger_2</th> <th>messenger_provider_2</th> <th>website_1</th> <th>website_2</th> <th>website_3</th> <th>tags</th> <th>connected_at</th> <th>mutual_count</th> <th>mutual_first_fullname</th> <th>mutual_second_fullname</th> <th>original_mutual_first_fullname</th> <th>original_mutual_second_fullname</th> <th>custom_mutual_first_fullname</th> <th>custom_mutual_second_fullname</th> <th>followers</th> <th>member_distance</th> <th>network_info_connection_count</th> <th>network_info_following</th> <th>third_party_email_1</th> <th>third_party_email_source_1</th> <th>third_party_email_is_valid_1</th> <th>third_party_email_2</th> <th>third_party_email_source_2</th> <th>third_party_email_is_valid_2</th> <th>third_party_email_3</th> <th>third_party_email_source_3</th> <th>third_party_email_is_valid_3</th>\n",
       "        </tr>\n",
       "    </thead>\n",
       "    <tbody>\n",
       "        <tr>\n",
       "            <td>aashna-pandya             </td> <td>aashna-pandya             </td> <td>ACoAABl6Ma4BlebFTffNevoQjKrptqArexSc6i8</td> <td>427438510</td> <td>nan         </td> <td>nan       </td> <td>nan        </td> <td>nan      </td> <td>61   </td> <td>https://www.linkedin.com/in/aashna-pandya/             </td> <td>nan  </td> <td>Aashna Pandya   </td> <td>Aashna    </td> <td>Pandya   </td> <td>Aashna             </td> <td>Pandya            </td> <td>nan              </td> <td>nan             </td> <td>https://media-exp1.licdn.com/dms/image/C5603AQEAeWLYZWnq ...</td> <td>Data Scientist at Instagram</td> <td>San Francisco, California, United States</td> <td>Information Technology & Services</td> <td>Currently a Data Scientist at Facebook.                     </td> <td>San Francisco, California, United States</td> <td>nan     </td> <td>False         </td> <td>False            </td> <td>False            </td> <td>False           </td> <td>Instagram      </td> <td>nan                   </td> <td>Data Scientist          </td> <td>nan                            </td> <td>Instagram     </td> <td>2.28911e+06      </td> <td>https://www.linkedin.com/company/2289109/</td> <td>Data Scientist      </td> <td>2019.08             </td> <td>nan               </td> <td>nan                       </td> <td>Menlo Park, CA         </td> <td>nan                   </td> <td>nan                  </td> <td>data.world    </td> <td>7.59291e+06      </td> <td>https://www.linkedin.com/company/7592908/</td> <td>Product Science Intern</td> <td>2018.09             </td> <td>2019.05           </td> <td>nan                       </td> <td>Austin, TX             </td> <td>nan                   </td> <td>nan                  </td> <td>Facebook      </td> <td>10667            </td> <td>https://www.linkedin.com/company/10667/</td> <td>Data Science Intern </td> <td>2018.05             </td> <td>2018.08           </td> <td>nan                       </td> <td>Menlo Park, CA         </td> <td>nan                   </td> <td>nan                  </td> <td>Facebook      </td> <td>10667            </td> <td>https://www.linkedin.com/company/10667/</td> <td>Analytics Intern    </td> <td>2017.06             </td> <td>2017.08           </td> <td>nan                       </td> <td>Menlo Park, CA         </td> <td>nan                   </td> <td>nan                  </td> <td>McCombs School of Business, The University of Texas at A ...</td> <td>331155           </td> <td>https://www.linkedin.com/company/331155/</td> <td>Marketing Associate </td> <td>2016.01             </td> <td>2017.06           </td> <td>- Set up Google Analytics funnels to track McCombs site  ...</td> <td>Austin, TX             </td> <td>nan                   </td> <td>nan                  </td> <td>Back to the Roots, Inc.</td> <td>2.63177e+06      </td> <td>https://www.linkedin.com/company/2631767/</td> <td>Marketing Analytics Intern</td> <td>2016.06             </td> <td>2016.08           </td> <td>- Planned, executed, monitored, and optimized online cus ...</td> <td>Oakland, CA            </td> <td>nan                   </td> <td>nan                  </td> <td>nan           </td> <td>nan              </td> <td>nan               </td> <td>nan                 </td> <td>nan                 </td> <td>nan               </td> <td>nan                       </td> <td>nan                    </td> <td>nan                   </td> <td>nan                  </td> <td>nan           </td> <td>nan              </td> <td>nan               </td> <td>nan                 </td> <td>nan                 </td> <td>nan               </td> <td>nan                       </td> <td>nan                    </td> <td>nan                   </td> <td>nan                  </td> <td>nan           </td> <td>nan              </td> <td>nan               </td> <td>nan                 </td> <td>nan                 </td> <td>nan               </td> <td>nan                       </td> <td>nan                    </td> <td>nan                   </td> <td>nan                  </td> <td>nan            </td> <td>nan               </td> <td>nan                </td> <td>nan                  </td> <td>nan                  </td> <td>nan                </td> <td>nan                        </td> <td>nan                     </td> <td>nan                    </td> <td>nan                   </td> <td>The University of Texas at Austin - Red McCombs School o ...</td> <td>Bachelor of Business Administration (B.B.A.)</td> <td>Management Information Systems</td> <td>2015             </td> <td>2018           </td> <td>nan                    </td> <td>nan                </td> <td>nan               </td> <td>nan             </td> <td>nan              </td> <td>nan            </td> <td>nan                    </td> <td>nan        </td> <td>nan               </td> <td>nan            </td> <td>nan              </td> <td>nan            </td> <td>nan                    </td> <td>nan        </td> <td>nan               </td> <td>nan            </td> <td>nan              </td> <td>nan            </td> <td>nan                    </td> <td>nan        </td> <td>nan               </td> <td>nan            </td> <td>nan              </td> <td>nan            </td> <td>nan                    </td> <td>nan        </td> <td>nan               </td> <td>nan            </td> <td>nan              </td> <td>nan            </td> <td>nan                    </td> <td>nan        </td> <td>nan               </td> <td>nan            </td> <td>nan              </td> <td>nan            </td> <td>nan                    </td> <td>nan        </td> <td>nan               </td> <td>nan            </td> <td>nan              </td> <td>nan            </td> <td>nan                    </td> <td>nan        </td> <td>nan               </td> <td>nan            </td> <td>nan              </td> <td>nan            </td> <td>nan                    </td> <td>nan         </td> <td>nan                </td> <td>nan             </td> <td>nan               </td> <td>nan             </td> <td>nan                     </td> <td>nan       </td> <td>nan                   </td> <td>nan       </td> <td>nan                   </td> <td>nan       </td> <td>nan                   </td> <td>nan      </td> <td>Python : 15,SQL : 7,Microsoft Excel : 14,Microsoft Offic ...</td> <td>nan     </td> <td>nan    </td> <td>nan         </td> <td>nan    </td> <td>nan         </td> <td>nan        </td> <td>nan                 </td> <td>nan        </td> <td>nan                 </td> <td>nan      </td> <td>nan      </td> <td>nan      </td> <td>nan </td> <td>nan         </td> <td>1           </td> <td>Alvin Li             </td> <td>nan                   </td> <td>Alvin Li                      </td> <td>nan                            </td> <td>nan                         </td> <td>nan                          </td> <td>822      </td> <td>DISTANCE_2     </td> <td>500                          </td> <td>False                 </td> <td>nan                </td> <td>nan                       </td> <td>nan                         </td> <td>nan                </td> <td>nan                       </td> <td>nan                         </td> <td>nan                </td> <td>nan                       </td> <td>nan                         </td>\n",
       "        </tr>\n",
       "        <tr>\n",
       "            <td>cherly-ferdinand-b40299154</td> <td>cherly-ferdinand-b40299154</td> <td>ACoAACUPtCABvqSHYfQNFSi7HiOhM7ujMdKeOTA</td> <td>621786144</td> <td>nan         </td> <td>nan       </td> <td>nan        </td> <td>nan      </td> <td>62   </td> <td>https://www.linkedin.com/in/cherly-ferdinand-b40299154/</td> <td>nan  </td> <td>Cherly Ferdinand</td> <td>Cherly    </td> <td>Ferdinand</td> <td>Cherly             </td> <td>Ferdinand         </td> <td>nan              </td> <td>nan             </td> <td>https://media-exp1.licdn.com/dms/image/C5603AQEgHZwb1pfw ...</td> <td>Data Scientist at Airbnb   </td> <td>Atherton, California, United States     </td> <td>Internet                         </td> <td>I am interested in using large data sets to better infor ...</td> <td>Atherton, California, United States     </td> <td>nan     </td> <td>False         </td> <td>False            </td> <td>False            </td> <td>False           </td> <td>Airbnb         </td> <td>nan                   </td> <td>Data Scientist          </td> <td>nan                            </td> <td>Airbnb        </td> <td>309694           </td> <td>https://www.linkedin.com/company/309694/ </td> <td>Data Scientist      </td> <td>2016.02             </td> <td>nan               </td> <td>nan                       </td> <td>nan                    </td> <td>nan                   </td> <td>nan                  </td> <td>nan           </td> <td>nan              </td> <td>nan                                      </td> <td>nan                   </td> <td>nan                 </td> <td>nan               </td> <td>nan                       </td> <td>nan                    </td> <td>nan                   </td> <td>nan                  </td> <td>nan           </td> <td>nan              </td> <td>nan                                    </td> <td>nan                 </td> <td>nan                 </td> <td>nan               </td> <td>nan                       </td> <td>nan                    </td> <td>nan                   </td> <td>nan                  </td> <td>nan           </td> <td>nan              </td> <td>nan                                    </td> <td>nan                 </td> <td>nan                 </td> <td>nan               </td> <td>nan                       </td> <td>nan                    </td> <td>nan                   </td> <td>nan                  </td> <td>nan                                                         </td> <td>nan              </td> <td>nan                                     </td> <td>nan                 </td> <td>nan                 </td> <td>nan               </td> <td>nan                                                         </td> <td>nan                    </td> <td>nan                   </td> <td>nan                  </td> <td>nan                    </td> <td>nan              </td> <td>nan                                      </td> <td>nan                       </td> <td>nan                 </td> <td>nan               </td> <td>nan                                                         </td> <td>nan                    </td> <td>nan                   </td> <td>nan                  </td> <td>nan           </td> <td>nan              </td> <td>nan               </td> <td>nan                 </td> <td>nan                 </td> <td>nan               </td> <td>nan                       </td> <td>nan                    </td> <td>nan                   </td> <td>nan                  </td> <td>nan           </td> <td>nan              </td> <td>nan               </td> <td>nan                 </td> <td>nan                 </td> <td>nan               </td> <td>nan                       </td> <td>nan                    </td> <td>nan                   </td> <td>nan                  </td> <td>nan           </td> <td>nan              </td> <td>nan               </td> <td>nan                 </td> <td>nan                 </td> <td>nan               </td> <td>nan                       </td> <td>nan                    </td> <td>nan                   </td> <td>nan                  </td> <td>nan            </td> <td>nan               </td> <td>nan                </td> <td>nan                  </td> <td>nan                  </td> <td>nan                </td> <td>nan                        </td> <td>nan                     </td> <td>nan                    </td> <td>nan                   </td> <td>University of San Francisco                                 </td> <td>Master's degree                             </td> <td>Analytics & Data Science      </td> <td>2014             </td> <td>2015           </td> <td>nan                    </td> <td>Stanford University</td> <td>Bachelor's degree </td> <td>Computer Science</td> <td>2009             </td> <td>2013           </td> <td>nan                    </td> <td>nan        </td> <td>nan               </td> <td>nan            </td> <td>nan              </td> <td>nan            </td> <td>nan                    </td> <td>nan        </td> <td>nan               </td> <td>nan            </td> <td>nan              </td> <td>nan            </td> <td>nan                    </td> <td>nan        </td> <td>nan               </td> <td>nan            </td> <td>nan              </td> <td>nan            </td> <td>nan                    </td> <td>nan        </td> <td>nan               </td> <td>nan            </td> <td>nan              </td> <td>nan            </td> <td>nan                    </td> <td>nan        </td> <td>nan               </td> <td>nan            </td> <td>nan              </td> <td>nan            </td> <td>nan                    </td> <td>nan        </td> <td>nan               </td> <td>nan            </td> <td>nan              </td> <td>nan            </td> <td>nan                    </td> <td>nan        </td> <td>nan               </td> <td>nan            </td> <td>nan              </td> <td>nan            </td> <td>nan                    </td> <td>nan         </td> <td>nan                </td> <td>nan             </td> <td>nan               </td> <td>nan             </td> <td>nan                     </td> <td>nan       </td> <td>nan                   </td> <td>nan       </td> <td>nan                   </td> <td>nan       </td> <td>nan                   </td> <td>nan      </td> <td>Machine Learning : 13,Data Analysis : 14,Deep Learning : ...</td> <td>nan     </td> <td>nan    </td> <td>nan         </td> <td>nan    </td> <td>nan         </td> <td>nan        </td> <td>nan                 </td> <td>nan        </td> <td>nan                 </td> <td>nan      </td> <td>nan      </td> <td>nan      </td> <td>nan </td> <td>nan         </td> <td>1           </td> <td>Alvin Li             </td> <td>nan                   </td> <td>Alvin Li                      </td> <td>nan                            </td> <td>nan                         </td> <td>nan                          </td> <td>3459     </td> <td>DISTANCE_2     </td> <td>500                          </td> <td>False                 </td> <td>nan                </td> <td>nan                       </td> <td>nan                         </td> <td>nan                </td> <td>nan                       </td> <td>nan                         </td> <td>nan                </td> <td>nan                       </td> <td>nan                         </td>\n",
       "        </tr>\n",
       "    </tbody>\n",
       "</table>\n",
       "<p>... (796 rows omitted)</p>"
      ],
      "text/plain": [
       "<IPython.core.display.HTML object>"
      ]
     },
     "metadata": {},
     "output_type": "display_data"
    }
   ],
   "source": [
    "all_data = Table().read_table(\"ALL_scraped_data_update.csv\")\n",
    "all_data.show(2)"
   ]
  },
  {
   "cell_type": "code",
   "execution_count": 5,
   "metadata": {},
   "outputs": [],
   "source": [
    "copy = all_data"
   ]
  },
  {
   "cell_type": "code",
   "execution_count": 6,
   "metadata": {},
   "outputs": [],
   "source": [
    "# location_name_data = all_data\n",
    "# location_name_data.group(\"location_name\").sort(\"count\", descending=True).show(3)"
   ]
  },
  {
   "cell_type": "markdown",
   "metadata": {},
   "source": [
    "# Step 3: Process\n",
    "Clean data is the best data and you will need to clean up your data to get rid of any possible errors, inaccuracies, or inconsistencies. This might mean:\n",
    "\n",
    "#### Using spreadsheet functions to find incorrectly entered data \n",
    "#### Using SQL functions to check for extra spaces\n",
    "#### Removing repeated entries \n",
    "#### Determining if your data is biased \n",
    "## Questions to ask yourself in this step: \n",
    "#### What data errors or inaccuracies might get in my way of getting the best possible answer to the problem I am trying to solve?\n",
    "#### How can I clean my data so the information I have is more consistent?"
   ]
  },
  {
   "cell_type": "markdown",
   "metadata": {},
   "source": [
    "# Cleaning the Data:\n",
    "After scraping the data, I did some cleaning in Google sheets, bellow I do some additional cleaning, specifically making new columns to indicate if a data scientist has a master's or above, and if they went to Berkeley. "
   ]
  },
  {
   "cell_type": "markdown",
   "metadata": {},
   "source": [
    "# Step 4: Analyze \n",
    "You will want to think analytically about your data. At this stage, you might sort and format your data to make it easier to: \n",
    "\n",
    "#### Perform calculations\n",
    "In this step I do the EDA. I formatted the data, and did some filtering functions to extract useful information like number of pervious internship positions, and if the level of education the data scientist had. \n",
    "#### Combine data from multiple sources\n",
    "#### Create tables with your results\n",
    "## Questions to ask yourself in this step:\n",
    "#### What story is my data telling me?\n",
    "So far the data has told me a majority of data scientists have masters degree; however, more intrestingly 40% of the data scientists in the sample have had job experience related to data analysis, or analytics. This is very intresting because that finding could create a new path for myself and other students to get into the field, that is possibly cheaper. \n",
    "#### How will my data help me solve this problem?\n",
    "The data shows what experience data scientists have, and also a timeline of how they got there. Therefore the data can tell a story of almost 800 data scientists and how they got there job.  \n",
    "#### Who needs my company’s product or service? What type of person is most likely to use it?\n",
    "I will use the data analysis to make a data driven decision about the path I or someone else might take to become a data scientist. "
   ]
  },
  {
   "cell_type": "code",
   "execution_count": 7,
   "metadata": {},
   "outputs": [],
   "source": [
    "terms_for_grad_degrees = make_array(\"Master\", \"Doctor\", \"PHD\", \"PhD\", \"M.Eng\", \"M.S.E.\",\n",
    "                                   \"MS in Data Science & Information\", \"postdoc\", \"Ph.D.\",\n",
    "                                   \"Post Graduate Diploma\", \"M.Sc.\", \"MSc.\", \"PhD Student\",\n",
    "                                   \"MSc\", \"Master's\", \"Doctor of Philosophy (Ph.D.)\", \n",
    "                                   \"Master of Science - MS\", \"Postdoc\", \"Graduate Coursework\", \n",
    "                                    \"Ph.D Candidate\", \"MIMS\", \"MIDS\", \"M.A.\", \"MS\",\"MA\",\n",
    "                                   \"Postgraduate\", \"Магистр\", \"碩士\", \"Аспирант\",   )\n"
   ]
  },
  {
   "cell_type": "code",
   "execution_count": 8,
   "metadata": {},
   "outputs": [],
   "source": [
    "terms_for_analyst_exp = make_array(\"Analyst\", \"Analytics\", \"Analysis\")"
   ]
  },
  {
   "cell_type": "code",
   "execution_count": 9,
   "metadata": {},
   "outputs": [],
   "source": [
    "def contains_analyst_position(string):\n",
    "    for each_term in terms_for_analyst_exp:\n",
    "        if each_term in string:\n",
    "            return 1\n",
    "    else:\n",
    "        return 0"
   ]
  },
  {
   "cell_type": "code",
   "execution_count": null,
   "metadata": {},
   "outputs": [],
   "source": []
  },
  {
   "cell_type": "code",
   "execution_count": 10,
   "metadata": {},
   "outputs": [
    {
     "data": {
      "text/plain": [
       "324"
      ]
     },
     "execution_count": 10,
     "metadata": {},
     "output_type": "execute_result"
    }
   ],
   "source": [
    "analyst_exp1 = copy.select(\"organization_title_1\").apply(contains_analyst_position, \"organization_title_1\")\n",
    "analyst_exp2 = copy.select(\"organization_title_2\").apply(contains_analyst_position, \"organization_title_2\")\n",
    "analyst_exp3 = copy.select(\"organization_title_3\").apply(contains_analyst_position, \"organization_title_3\")\n",
    "analyst_exp4 = copy.select(\"organization_title_4\").apply(contains_analyst_position, \"organization_title_4\")\n",
    "analyst_exp5 = copy.select(\"organization_title_5\").apply(contains_analyst_position, \"organization_title_5\")\n",
    "analyst_exp6 = copy.select(\"organization_title_6\").apply(contains_analyst_position, \"organization_title_6\")\n",
    "\n",
    "analyst_array = analyst_exp1 + analyst_exp2 + analyst_exp3 + analyst_exp4 + analyst_exp5 + analyst_exp6\n",
    "np.count_nonzero(analyst_array)"
   ]
  },
  {
   "cell_type": "code",
   "execution_count": 11,
   "metadata": {},
   "outputs": [],
   "source": [
    "all_data = all_data.with_column(\"Analyst_Experience\", analyst_array)\n",
    "copy = all_data"
   ]
  },
  {
   "cell_type": "code",
   "execution_count": 12,
   "metadata": {},
   "outputs": [],
   "source": [
    "def contains_grad_school(string):\n",
    "    for each_term in terms_for_grad_degrees:\n",
    "        if each_term in string:\n",
    "            return 1\n",
    "    else:\n",
    "        return 0"
   ]
  },
  {
   "cell_type": "code",
   "execution_count": 13,
   "metadata": {},
   "outputs": [],
   "source": [
    "terms_for_interships_or_research = make_array(\"Intern\", \"Research\", \"Internship\", \"Junior\", \n",
    "                                              \"Jr\", \"researcher\")"
   ]
  },
  {
   "cell_type": "code",
   "execution_count": 14,
   "metadata": {},
   "outputs": [],
   "source": [
    "def contains_inter_or_research(string):\n",
    "    for each_term in terms_for_interships_or_research:\n",
    "        if each_term.lower() in string.lower():\n",
    "            return 1\n",
    "    else:\n",
    "        return 0"
   ]
  },
  {
   "cell_type": "code",
   "execution_count": 15,
   "metadata": {},
   "outputs": [],
   "source": [
    "intern_exp1 = copy.select(\"organization_title_1\").apply(contains_inter_or_research, \"organization_title_1\")\n",
    "intern_exp2 = copy.select(\"organization_title_2\").apply(contains_inter_or_research, \"organization_title_2\")\n",
    "intern_exp3 = copy.select(\"organization_title_3\").apply(contains_inter_or_research, \"organization_title_3\")\n",
    "intern_exp4 = copy.select(\"organization_title_4\").apply(contains_inter_or_research, \"organization_title_4\")\n",
    "intern_exp5 = copy.select(\"organization_title_5\").apply(contains_inter_or_research, \"organization_title_5\")\n",
    "intern_exp6 = copy.select(\"organization_title_6\").apply(contains_inter_or_research, \"organization_title_6\")\n",
    "\n",
    "num_internships_research = intern_exp1 +intern_exp2 + intern_exp3 + intern_exp4 + intern_exp5 + intern_exp6\n",
    "\n",
    "all_data = all_data.with_column(\"Internships_and_Research\", num_internships_research)\n",
    "\n",
    "copy = all_data"
   ]
  },
  {
   "cell_type": "code",
   "execution_count": 16,
   "metadata": {},
   "outputs": [],
   "source": [
    "berk_key_words = make_array(\"Berkeley\", \"Cal\", \"MIDS\", \"MIMS\")\n",
    "\n",
    "def contains_berkeley_school(string):\n",
    "    for each_term in berk_key_words:\n",
    "        if each_term in string:\n",
    "            return 1\n",
    "    else:\n",
    "        return 0"
   ]
  },
  {
   "cell_type": "code",
   "execution_count": 17,
   "metadata": {},
   "outputs": [],
   "source": [
    "contains_berk1 = copy.select(\"education_1\").apply(contains_berkeley_school, \"education_1\")\n",
    "contains_berk2 = copy.select(\"education_2\").apply(contains_berkeley_school, \"education_2\")\n",
    "contains_berk3 = copy.select(\"education_3\").apply(contains_berkeley_school, \"education_3\")\n",
    "berkeley_alum = (contains_berk1 + contains_berk2 + contains_berk3) > 0\n",
    "all_data = all_data.with_column(\"Went_to_Berkeley\", berkeley_alum)\n",
    "copy = all_data"
   ]
  },
  {
   "cell_type": "code",
   "execution_count": 18,
   "metadata": {},
   "outputs": [],
   "source": [
    "# Here I am applying the function which goes through each column that describes the level of education\n",
    "# that the data scientist has. There are 6 columns for degrees. Yes there are some very qualified \n",
    "# people in the sample with 6 degrees. \n",
    "\n",
    "ed_degree_1 = copy.select(\"education_degree_1\").apply(contains_grad_school, \"education_degree_1\")\n",
    "ed_degree_2 = copy.select(\"education_degree_2\").apply(contains_grad_school, \"education_degree_2\")\n",
    "ed_degree_3 = copy.select(\"education_degree_3\").apply(contains_grad_school, \"education_degree_3\")\n",
    "ed_degree_4 = copy.select(\"education_degree_4\").apply(contains_grad_school, \"education_degree_4\")\n",
    "ed_degree_5 = copy.select(\"education_degree_5\").apply(contains_grad_school, \"education_degree_5\")\n",
    "ed_degree_6 = copy.select(\"education_degree_6\").apply(contains_grad_school, \"education_degree_6\")\n",
    "\n",
    "# Here I sum up all the arrays. If the arrays sum up to 0 that means that none of the columns contained\n",
    "# any of the key words that I chose that describe graduate degrees, and therefore, that data scientists\n",
    "# does not have a graduate degree. \n",
    "\n",
    "num_degress = ed_degree_1 + ed_degree_2 + ed_degree_3 +ed_degree_4 + ed_degree_5 + ed_degree_6\n",
    "number_of_data_scientists_with_grad_school = np.count_nonzero(num_degress > 0)"
   ]
  },
  {
   "cell_type": "code",
   "execution_count": 19,
   "metadata": {},
   "outputs": [],
   "source": [
    "has_masters_or_higher = num_degress > 0\n",
    "\n",
    "# Here I am adding a new column that has a boolean value whether the data scientist has a graduate degree or not\n",
    "\n",
    "all_data = all_data.with_column(\"Masters\", has_masters_or_higher)\n",
    "copy = all_data"
   ]
  },
  {
   "cell_type": "code",
   "execution_count": 20,
   "metadata": {},
   "outputs": [
    {
     "data": {
      "text/plain": [
       "(629, 798, 4, 0.7882205513784462)"
      ]
     },
     "execution_count": 20,
     "metadata": {},
     "output_type": "execute_result"
    }
   ],
   "source": [
    "# Bellow are some numbers crunched with self explanatory titles, which I used to create the Venn Diagram\n",
    "# and some summary stats. \n",
    "\n",
    "number_of_data_scientists_in_table = len(all_data.column(0))\n",
    "number_of_DS_no_degree = len(copy.where(\"education_1\", \"nan\").where(\"education_2\", \"nan\").column(0))\n",
    "number_ds_bachelors_and_above = number_of_data_scientists_in_table - number_of_DS_no_degree\n",
    "porportion_ds_grad = number_of_data_scientists_with_grad_school / number_of_data_scientists_in_table\n",
    "\n",
    "number_of_data_scientists_with_grad_school, number_of_data_scientists_in_table, number_of_DS_no_degree, porportion_ds_grad\n"
   ]
  },
  {
   "cell_type": "code",
   "execution_count": 21,
   "metadata": {},
   "outputs": [
    {
     "data": {
      "text/plain": [
       "0.2128463476070529"
      ]
     },
     "execution_count": 21,
     "metadata": {},
     "output_type": "execute_result"
    }
   ],
   "source": [
    "(798 - 629) / 794"
   ]
  },
  {
   "cell_type": "markdown",
   "metadata": {},
   "source": [
    "### The total number of Data Scientists in the sample is 798\n",
    "### Aproximately 79%(629) have a graduate degree or higher. \n",
    "### Aproximately 99% (794) have a bachelors degree or higher\n",
    "### Aproximately 21% (169) have only a bachelors degree "
   ]
  },
  {
   "cell_type": "code",
   "execution_count": 22,
   "metadata": {},
   "outputs": [],
   "source": [
    "# p(bachelors) = 794 / 798\n",
    "# p(bachelors and master) = 546 / 794 \n",
    "# p(masters) = 794 - 546 / 794"
   ]
  },
  {
   "cell_type": "code",
   "execution_count": 23,
   "metadata": {},
   "outputs": [
    {
     "data": {
      "text/plain": [
       "Text(0.5, 1.0, 'Data Scientist Education Level')"
      ]
     },
     "execution_count": 23,
     "metadata": {},
     "output_type": "execute_result"
    },
    {
     "data": {
      "image/png": "[encoded data removed]",
      "text/plain": [
       "<Figure size 432x288 with 1 Axes>"
      ]
     },
     "metadata": {},
     "output_type": "display_data"
    }
   ],
   "source": [
    "from matplotlib_venn import venn2\n",
    "venn2(subsets = (794,0,(629)), set_labels = ('Bachelors and Above', 'Masters and Above'))\n",
    "plt.title(\"Data Scientist Education Level\")\n"
   ]
  },
  {
   "cell_type": "code",
   "execution_count": 24,
   "metadata": {},
   "outputs": [],
   "source": [
    "# from matplotlib_venn import venn3\n",
    "# venn3(subsets = (1, 1, 1, 2, 1, 2, 2), set_labels = ('Set1', 'Set2', 'Set3'))"
   ]
  },
  {
   "cell_type": "code",
   "execution_count": 25,
   "metadata": {},
   "outputs": [],
   "source": [
    "no_masters_all = copy.with_column(\"Masters\", num_degress).where(\"Masters\", 0)"
   ]
  },
  {
   "cell_type": "code",
   "execution_count": 26,
   "metadata": {},
   "outputs": [
    {
     "data": {
      "text/plain": [
       "169"
      ]
     },
     "execution_count": 26,
     "metadata": {},
     "output_type": "execute_result"
    }
   ],
   "source": [
    "no_masters = copy.with_column(\"Masters\", num_degress).where(\"Masters\", 0).select(\"Masters\",\"current_company\",\"current_company_position\",\"education_1\",\"education_degree_1\",\n",
    "                                                                                 \"education_fos_1\",\"education_degree_2\",\"education_degree_3\", \"Went_to_Berkeley\",\n",
    "                                                                                \"Internships_and_Research\")\n",
    "len(no_masters.column(0))"
   ]
  },
  {
   "cell_type": "code",
   "execution_count": 27,
   "metadata": {},
   "outputs": [
    {
     "data": {
      "text/plain": [
       "(0.19480519480519481, 60, 308)"
      ]
     },
     "execution_count": 27,
     "metadata": {},
     "output_type": "execute_result"
    }
   ],
   "source": [
    "# Bellow are some summary stats about spefically berkeley students. The orignal table\n",
    "# Now has columns named \"Masters\", and \"Went_to_Berkeley\" which both have boolean values\n",
    "# to indicate these things. \n",
    "\n",
    "went_to_berk_no_masters = len(no_masters.where(\"Went_to_Berkeley\", True).column(0))\n",
    "went_to_berk_total = len(copy.where(\"Went_to_Berkeley\", True).column(0))\n",
    "(went_to_berk_no_masters / went_to_berk_total), went_to_berk_no_masters, went_to_berk_total"
   ]
  },
  {
   "cell_type": "code",
   "execution_count": 28,
   "metadata": {},
   "outputs": [
    {
     "name": "stderr",
     "output_type": "stream",
     "text": [
      "/opt/conda/lib/python3.8/site-packages/datascience/tables.py:920: VisibleDeprecationWarning: Creating an ndarray from ragged nested sequences (which is a list-or-tuple of lists-or-tuples-or ndarrays with different lengths or shapes) is deprecated. If you meant to do this, you must specify 'dtype=object' when creating the ndarray\n",
      "  values = np.array(tuple(values))\n"
     ]
    },
    {
     "data": {
      "text/html": [
       "<table border=\"1\" class=\"dataframe\">\n",
       "    <thead>\n",
       "        <tr>\n",
       "            <th>Went_to_Berkeley</th> <th>Masters</th> <th>count</th>\n",
       "        </tr>\n",
       "    </thead>\n",
       "    <tbody>\n",
       "        <tr>\n",
       "            <td>False           </td> <td>False  </td> <td>109  </td>\n",
       "        </tr>\n",
       "        <tr>\n",
       "            <td>False           </td> <td>True   </td> <td>381  </td>\n",
       "        </tr>\n",
       "        <tr>\n",
       "            <td>True            </td> <td>False  </td> <td>60   </td>\n",
       "        </tr>\n",
       "        <tr>\n",
       "            <td>True            </td> <td>True   </td> <td>248  </td>\n",
       "        </tr>\n",
       "    </tbody>\n",
       "</table>"
      ],
      "text/plain": [
       "Went_to_Berkeley | Masters | count\n",
       "False            | False   | 109\n",
       "False            | True    | 381\n",
       "True             | False   | 60\n",
       "True             | True    | 248"
      ]
     },
     "execution_count": 28,
     "metadata": {},
     "output_type": "execute_result"
    }
   ],
   "source": [
    "masters_vs_no_mast = copy.select(\"Masters\", \"Went_to_Berkeley\").group([\"Went_to_Berkeley\", \"Masters\"])\n",
    "masters_vs_no_mast"
   ]
  },
  {
   "cell_type": "code",
   "execution_count": 29,
   "metadata": {},
   "outputs": [],
   "source": [
    "# masters_vs_no_mast.where(\"Went_to_Berkeley\", True).select(\"count\",\"Masters\").barh(\"Masters\")"
   ]
  },
  {
   "cell_type": "code",
   "execution_count": 30,
   "metadata": {},
   "outputs": [],
   "source": [
    "# masters_vs_no_mast.where(\"Went_to_Berkeley\", False).select(\"count\",\"Masters\").barh(\"Masters\")"
   ]
  },
  {
   "cell_type": "code",
   "execution_count": 31,
   "metadata": {},
   "outputs": [
    {
     "data": {
      "text/plain": [
       "(0.19480519480519481, 0.22244897959183674)"
      ]
     },
     "execution_count": 31,
     "metadata": {},
     "output_type": "execute_result"
    }
   ],
   "source": [
    "(60 / 308), (109 / 490)"
   ]
  },
  {
   "cell_type": "markdown",
   "metadata": {},
   "source": [
    "# Finding:\n",
    "### 19% of UC Berkeley Students got jobs as data scientists without a masters.\n",
    "### 22% of Non Berkeley students got jobs as data scientists without a masters.\n",
    "\n",
    "## Consideration:\n",
    "The sample that I collected has 38% of the data scientists as UC Berkeley Alumni. This is clearly not a representative sample of the population of all data scientists. I beileve this bias arose because my search resulsts on linked in have been skewed due to a page ranking algorithm which clearly prioritizes berkeley alumni.However, this data can still be useful to answer the question if I should get a masters degree. "
   ]
  },
  {
   "cell_type": "markdown",
   "metadata": {},
   "source": [
    "### Companies with the most Data Scientists in the sample. "
   ]
  },
  {
   "cell_type": "code",
   "execution_count": 32,
   "metadata": {},
   "outputs": [],
   "source": [
    "masters_porportions_big_tech = make_array(12,8,8,6, 7, 3)"
   ]
  },
  {
   "cell_type": "code",
   "execution_count": 35,
   "metadata": {},
   "outputs": [
    {
     "data": {
      "image/png": "[encoded data removed]",
      "text/plain": [
       "<Figure size 432x288 with 1 Axes>"
      ]
     },
     "metadata": {
      "needs_background": "light"
     },
     "output_type": "display_data"
    }
   ],
   "source": [
    "big_tech_counts = copy.group(\"current_company\").sort(\"count\", descending=True).where(\"count\", are.above(5)).with_column(\"Count of Employees with Masters\",masters_porportions_big_tech )\n",
    "big_tech_counts.barh(\"current_company\")"
   ]
  },
  {
   "cell_type": "code",
   "execution_count": 36,
   "metadata": {},
   "outputs": [
    {
     "data": {
      "text/html": [
       "<table border=\"1\" class=\"dataframe\">\n",
       "    <thead>\n",
       "        <tr>\n",
       "            <th>current_company</th> <th>current_company_position</th> <th>education_degree_1</th> <th>education_fos_1</th> <th>education_fos_2</th>\n",
       "        </tr>\n",
       "    </thead>\n",
       "    <tbody>\n",
       "        <tr>\n",
       "            <td>IBM            </td> <td>Data Scientist                   </td> <td>Bachelor's degree       </td> <td>Political Economy, Minor in Data Science</td> <td>Economics            </td>\n",
       "        </tr>\n",
       "        <tr>\n",
       "            <td>IBM            </td> <td>Incoming Associate Data Scientist</td> <td>Master's degree         </td> <td>Data Science                            </td> <td>nan                  </td>\n",
       "        </tr>\n",
       "        <tr>\n",
       "            <td>IBM            </td> <td>Data Scientist/Software Developer</td> <td>Master of Science - MS  </td> <td>Business Analytics                      </td> <td>Auditing(IAEP)       </td>\n",
       "        </tr>\n",
       "        <tr>\n",
       "            <td>IBM            </td> <td>Senior Data Scientist            </td> <td>Master of Science (M.S.)</td> <td>Operation Research                      </td> <td>Financial Engineering</td>\n",
       "        </tr>\n",
       "    </tbody>\n",
       "</table>\n",
       "<p>... (6 rows omitted)</p>"
      ],
      "text/plain": [
       "<IPython.core.display.HTML object>"
      ]
     },
     "metadata": {},
     "output_type": "display_data"
    }
   ],
   "source": [
    "IBM_DS = copy.where(\"current_company\", \"IBM\").select(\"current_company\",\"current_company_position\", \"education_degree_1\", \"education_fos_1\",\"education_fos_2\")\n",
    "IBM_DS.show(4)"
   ]
  },
  {
   "cell_type": "markdown",
   "metadata": {},
   "source": [
    "### Bellow are the most popular graduate degrees among Data Scientists."
   ]
  },
  {
   "cell_type": "code",
   "execution_count": 37,
   "metadata": {},
   "outputs": [
    {
     "data": {
      "image/png": "[encoded data removed]",
      "text/plain": [
       "<Figure size 432x360 with 1 Axes>"
      ]
     },
     "metadata": {
      "needs_background": "light"
     },
     "output_type": "display_data"
    }
   ],
   "source": [
    "popular_grad_degrees = copy.select(\"education_fos_1\").group(\"education_fos_1\").sort(\"count\", descending=True).where(\"education_fos_1\", are.not_equal_to(\"nan\"))\n",
    "popular_grad_degrees.where(\"count\", are.above(6)).barh(\"education_fos_1\")"
   ]
  },
  {
   "cell_type": "markdown",
   "metadata": {},
   "source": [
    "### Bellow are the 169 Data Scientists in the sample without a Masters or Higher."
   ]
  },
  {
   "cell_type": "code",
   "execution_count": 38,
   "metadata": {},
   "outputs": [
    {
     "data": {
      "text/html": [
       "<table border=\"1\" class=\"dataframe\">\n",
       "    <thead>\n",
       "        <tr>\n",
       "            <th>Masters</th> <th>current_company</th> <th>current_company_position</th> <th>education_1</th> <th>education_degree_1</th> <th>education_fos_1</th> <th>education_degree_2</th> <th>education_degree_3</th> <th>Went_to_Berkeley</th> <th>Internships_and_Research</th>\n",
       "        </tr>\n",
       "    </thead>\n",
       "    <tbody>\n",
       "        <tr>\n",
       "            <td>0      </td> <td>Instagram      </td> <td>Data Scientist                                  </td> <td>The University of Texas at Austin - Red McCombs School o ...</td> <td>Bachelor of Business Administration (B.B.A.)</td> <td>Management Information Systems       </td> <td>nan                                     </td> <td>nan               </td> <td>False           </td> <td>4                       </td>\n",
       "        </tr>\n",
       "        <tr>\n",
       "            <td>0      </td> <td>Snap Inc.      </td> <td>Data Scientist                                  </td> <td>University of California, Berkeley                          </td> <td>Bachelor of Arts                            </td> <td>Statistics, Chinese minor            </td> <td>nan                                     </td> <td>nan               </td> <td>True            </td> <td>1                       </td>\n",
       "        </tr>\n",
       "        <tr>\n",
       "            <td>0      </td> <td>Slack          </td> <td>Senior Data Scientist                           </td> <td>Y Combinator                                                </td> <td>Summer 16                                   </td> <td>nan                                  </td> <td>Bachelor of Science in Engineering (BSE)</td> <td>nan               </td> <td>False           </td> <td>0                       </td>\n",
       "        </tr>\n",
       "        <tr>\n",
       "            <td>0      </td> <td>Adobe          </td> <td>Data Scientist (AEP) & Technical Consultant (AA)</td> <td>University of Melbourne                                     </td> <td>Bachelor's degree                           </td> <td>Applied Mathematics, Computer Science</td> <td>Bachelor's degree                       </td> <td>Bachelor's        </td> <td>True            </td> <td>0                       </td>\n",
       "        </tr>\n",
       "        <tr>\n",
       "            <td>0      </td> <td>Kinetic Eye    </td> <td>Data Scientist                                  </td> <td>University of California, Berkeley                          </td> <td>Bachelor of Arts - BA                       </td> <td>Data Science                         </td> <td>nan                                     </td> <td>nan               </td> <td>True            </td> <td>1                       </td>\n",
       "        </tr>\n",
       "    </tbody>\n",
       "</table>\n",
       "<p>... (164 rows omitted)</p>"
      ],
      "text/plain": [
       "<IPython.core.display.HTML object>"
      ]
     },
     "metadata": {},
     "output_type": "display_data"
    }
   ],
   "source": [
    "no_masters.show(5)"
   ]
  },
  {
   "cell_type": "code",
   "execution_count": 57,
   "metadata": {},
   "outputs": [
    {
     "data": {
      "text/plain": [
       "63"
      ]
     },
     "execution_count": 57,
     "metadata": {},
     "output_type": "execute_result"
    }
   ],
   "source": [
    "len(no_masters.where(\"Internships_and_Research\", 0).column(0))"
   ]
  },
  {
   "cell_type": "code",
   "execution_count": 58,
   "metadata": {},
   "outputs": [
    {
     "data": {
      "text/plain": [
       "0.3727810650887574"
      ]
     },
     "execution_count": 58,
     "metadata": {},
     "output_type": "execute_result"
    }
   ],
   "source": [
    "63 / 169"
   ]
  },
  {
   "cell_type": "code",
   "execution_count": 59,
   "metadata": {},
   "outputs": [
    {
     "data": {
      "text/plain": [
       "0.6272189349112426"
      ]
     },
     "execution_count": 59,
     "metadata": {},
     "output_type": "execute_result"
    }
   ],
   "source": [
    "(169 - 63) / 169"
   ]
  },
  {
   "cell_type": "code",
   "execution_count": 61,
   "metadata": {},
   "outputs": [
    {
     "data": {
      "text/plain": [
       "0.2544378698224852"
      ]
     },
     "execution_count": 61,
     "metadata": {},
     "output_type": "execute_result"
    }
   ],
   "source": [
    "((169 - 63) / 169) - (63 / 169)"
   ]
  },
  {
   "cell_type": "markdown",
   "metadata": {},
   "source": [
    "### IBM has the highest percent of Data Scientists without a masters degree with 40%. "
   ]
  },
  {
   "cell_type": "code",
   "execution_count": 39,
   "metadata": {},
   "outputs": [
    {
     "data": {
      "image/png": "[encoded data removed]",
      "text/plain": [
       "<Figure size 432x504 with 1 Axes>"
      ]
     },
     "metadata": {
      "needs_background": "light"
     },
     "output_type": "display_data"
    }
   ],
   "source": [
    "no_masters.group(\"current_company\").sort(\"count\", descending=True).where(\"count\", are.above(1)).barh(\"current_company\")"
   ]
  },
  {
   "cell_type": "code",
   "execution_count": 40,
   "metadata": {},
   "outputs": [],
   "source": [
    "terms_for_CS = make_array(\"Computer\", \"Electrical\", \"Machine\", \"Software\")\n",
    "terms_for_Math_stats = make_array(\"Math\", \"Statistics\", \"Stats\", \"Mathematical\",\"Physics\",\"Computational\")\n",
    "def contains_CS(string):\n",
    "    for each_term in terms_for_CS:\n",
    "        if each_term in string:\n",
    "            return 1\n",
    "    else:\n",
    "        return 0"
   ]
  },
  {
   "cell_type": "code",
   "execution_count": 41,
   "metadata": {},
   "outputs": [],
   "source": [
    "  def contains_Math(string):\n",
    "    for each_term in terms_for_Math_stats:\n",
    "        if each_term in string:\n",
    "            return 1\n",
    "    else:\n",
    "        return 0"
   ]
  },
  {
   "cell_type": "code",
   "execution_count": 42,
   "metadata": {},
   "outputs": [
    {
     "data": {
      "text/plain": [
       "(48, 34)"
      ]
     },
     "execution_count": 42,
     "metadata": {},
     "output_type": "execute_result"
    }
   ],
   "source": [
    "has_CS1 = no_masters.select(\"education_fos_1\").apply(contains_CS, \"education_fos_1\")\n",
    "has_Math = no_masters.select(\"education_fos_1\").apply(contains_Math, \"education_fos_1\")\n",
    "np.count_nonzero((has_CS1) > 0), np.count_nonzero((has_Math) > 0)"
   ]
  },
  {
   "cell_type": "markdown",
   "metadata": {},
   "source": [
    "### The most popular major for the Data Scientists who dont have master degrees are Computer Science or related to Computer Science. "
   ]
  },
  {
   "cell_type": "code",
   "execution_count": 43,
   "metadata": {},
   "outputs": [
    {
     "data": {
      "image/png": "[encoded data removed]",
      "text/plain": [
       "<Figure size 432x288 with 1 Axes>"
      ]
     },
     "metadata": {
      "needs_background": "light"
     },
     "output_type": "display_data"
    }
   ],
   "source": [
    "pop_undergrad_majors = no_masters.group(\"education_fos_1\").sort(\"count\", descending=True).where(\"education_fos_1\", are.not_equal_to(\"nan\"))\n",
    "pop_undergrad_majors = pop_undergrad_majors.where(\"count\", are.above(2))\n",
    "pop_undergrad_majors = pop_undergrad_majors.with_column(\"Major\",pop_undergrad_majors.column(\"education_fos_1\"))\n",
    "pop_undergrad_majors.drop(\"education_fos_1\").barh(\"Major\")"
   ]
  },
  {
   "cell_type": "code",
   "execution_count": 44,
   "metadata": {},
   "outputs": [
    {
     "data": {
      "text/plain": [
       "0.6272189349112426"
      ]
     },
     "execution_count": 44,
     "metadata": {},
     "output_type": "execute_result"
    }
   ],
   "source": [
    "np.count_nonzero(no_masters.select(\"Internships_and_Research\").column(0)) / len(no_masters.select(\"Internships_and_Research\").column(0))"
   ]
  },
  {
   "cell_type": "markdown",
   "metadata": {},
   "source": [
    "# Finding: 62% of data scientists without masters have had internships and or research experience"
   ]
  },
  {
   "cell_type": "code",
   "execution_count": 45,
   "metadata": {},
   "outputs": [
    {
     "data": {
      "text/plain": [
       "0.7725321888412017"
      ]
     },
     "execution_count": 45,
     "metadata": {},
     "output_type": "execute_result"
    }
   ],
   "source": [
    "np.count_nonzero(copy.where(\"Internships_and_Research\",are.above(0)).where(\"Masters\", are.above(0)).column(\"Internships_and_Research\")) / len(copy.select(\"Internships_and_Research\").where(\"Internships_and_Research\", are.above(0)).column(0))"
   ]
  },
  {
   "cell_type": "markdown",
   "metadata": {},
   "source": [
    "# Finding: 77% of data scientists with masters have had internships and or research experience."
   ]
  },
  {
   "cell_type": "code",
   "execution_count": 46,
   "metadata": {},
   "outputs": [
    {
     "data": {
      "text/html": [
       "<table border=\"1\" class=\"dataframe\">\n",
       "    <thead>\n",
       "        <tr>\n",
       "            <th>organization_title_1</th> <th>organization_title_2</th> <th>organization_title_3</th> <th>organization_title_4</th> <th>organization_title_5</th> <th>organization_title_6</th> <th>Internships_and_Research</th> <th>Masters</th>\n",
       "        </tr>\n",
       "    </thead>\n",
       "    <tbody>\n",
       "        <tr>\n",
       "            <td>Data Scientist                   </td> <td>nan                 </td> <td>nan                 </td> <td>nan                 </td> <td>nan                 </td> <td>nan                 </td> <td>0                       </td> <td>False  </td>\n",
       "        </tr>\n",
       "        <tr>\n",
       "            <td>Data Scientist                   </td> <td>nan                 </td> <td>nan                 </td> <td>nan                 </td> <td>nan                 </td> <td>nan                 </td> <td>0                       </td> <td>False  </td>\n",
       "        </tr>\n",
       "        <tr>\n",
       "            <td>Data Scientist, Team Leader      </td> <td>nan                 </td> <td>nan                 </td> <td>nan                 </td> <td>nan                 </td> <td>nan                 </td> <td>0                       </td> <td>False  </td>\n",
       "        </tr>\n",
       "        <tr>\n",
       "            <td>Python Data Scientist            </td> <td>nan                 </td> <td>nan                 </td> <td>nan                 </td> <td>nan                 </td> <td>nan                 </td> <td>0                       </td> <td>False  </td>\n",
       "        </tr>\n",
       "        <tr>\n",
       "            <td>Data Scientist, Product Analytics</td> <td>nan                 </td> <td>nan                 </td> <td>nan                 </td> <td>nan                 </td> <td>nan                 </td> <td>0                       </td> <td>False  </td>\n",
       "        </tr>\n",
       "    </tbody>\n",
       "</table>"
      ],
      "text/plain": [
       "<IPython.core.display.HTML object>"
      ]
     },
     "metadata": {},
     "output_type": "display_data"
    }
   ],
   "source": [
    "copy.select(\"organization_title_1\", \"organization_title_2\", \n",
    "           \"organization_title_3\", \n",
    "           \"organization_title_4\", \n",
    "           \"organization_title_5\", \n",
    "           \"organization_title_6\",\n",
    "           \"Internships_and_Research\",\n",
    "           \"Masters\").where(\"Internships_and_Research\",0).where(\"Masters\", 0).where(\"organization_title_2\", \"nan\").show()"
   ]
  },
  {
   "cell_type": "code",
   "execution_count": null,
   "metadata": {},
   "outputs": [],
   "source": []
  },
  {
   "cell_type": "markdown",
   "metadata": {},
   "source": [
    "# Finding: There are only 5 data scientists in the sample who have no masters degree, internships, work or research experience."
   ]
  },
  {
   "cell_type": "markdown",
   "metadata": {},
   "source": [
    "#### This table bellow is a beautiful representation of those who have no masters degrees, and started in data analaytics, and progressed into data science:"
   ]
  },
  {
   "cell_type": "code",
   "execution_count": 47,
   "metadata": {},
   "outputs": [
    {
     "data": {
      "text/html": [
       "<table border=\"1\" class=\"dataframe\">\n",
       "    <thead>\n",
       "        <tr>\n",
       "            <th>organization_title_1</th> <th>organization_title_2</th> <th>organization_title_3</th> <th>organization_title_4</th> <th>organization_title_5</th> <th>organization_title_6</th> <th>Internships_and_Research</th> <th>Masters</th> <th>Analyst_Experience</th>\n",
       "        </tr>\n",
       "    </thead>\n",
       "    <tbody>\n",
       "        <tr>\n",
       "            <td>Data Scientist                                  </td> <td>Product Science Intern                  </td> <td>Data Science Intern                 </td> <td>Analytics Intern                                            </td> <td>Marketing Associate                         </td> <td>Marketing Analytics Intern       </td> <td>4                       </td> <td>False  </td> <td>2                 </td>\n",
       "        </tr>\n",
       "        <tr>\n",
       "            <td>Data Scientist (AEP) & Technical Consultant (AA)</td> <td>Data Scientist & NIH Fellow             </td> <td>Resident Assistant                  </td> <td>Data Science Consultant                                     </td> <td>Campus Ambassador                           </td> <td>Data Analyst                     </td> <td>0                       </td> <td>False  </td> <td>1                 </td>\n",
       "        </tr>\n",
       "        <tr>\n",
       "            <td>Data Scientist                                  </td> <td>Data Science Intern                     </td> <td>Desktop Consultant                  </td> <td>Project Manager for Data Science Society at Berkeley        </td> <td>Shift Supervisor and Student Tech Consultant</td> <td>Data Analytics Student Consultant</td> <td>1                       </td> <td>False  </td> <td>1                 </td>\n",
       "        </tr>\n",
       "        <tr>\n",
       "            <td>Data Scientist                                  </td> <td>Product Analyst                         </td> <td>Associate Product Analyst           </td> <td>Data Science Intern                                         </td> <td>Product Analyst Intern                      </td> <td>nan                              </td> <td>2                       </td> <td>False  </td> <td>3                 </td>\n",
       "        </tr>\n",
       "        <tr>\n",
       "            <td>Data Scientist                                  </td> <td>Data Scientist                          </td> <td>Data Science Intern                 </td> <td>e-4P 'Chief of Staff' & Data Analyst Intern                 </td> <td>Marketing and Data Analyst Intern           </td> <td>Student Consultant               </td> <td>3                       </td> <td>False  </td> <td>2                 </td>\n",
       "        </tr>\n",
       "        <tr>\n",
       "            <td>Lynx Data Scientist                             </td> <td>Data Analyst                            </td> <td>Business Analyst Intern             </td> <td>Research Assistant                                          </td> <td>Administrative Assistant                    </td> <td>Server                           </td> <td>2                       </td> <td>False  </td> <td>2                 </td>\n",
       "        </tr>\n",
       "        <tr>\n",
       "            <td>Data Scientist                                  </td> <td>Support Operations Analyst              </td> <td>Senior Support Operations Specialist</td> <td>Media Analyst & Account Manager                             </td> <td>Resident Assistant                          </td> <td>Research Assistant               </td> <td>1                       </td> <td>False  </td> <td>2                 </td>\n",
       "        </tr>\n",
       "        <tr>\n",
       "            <td>Data Scientist                                  </td> <td>Data Analyst                            </td> <td>Advanced Analytics Analyst (Intern) </td> <td>Associate Marketing Operations Manager (Intern)             </td> <td>Strategic Markets Analyst (Intern)          </td> <td>Assistant Product Manager Intern </td> <td>4                       </td> <td>False  </td> <td>3                 </td>\n",
       "        </tr>\n",
       "        <tr>\n",
       "            <td>Senior Data Scientist                           </td> <td>Data Scientist                          </td> <td>Senior Data Scientist               </td> <td>Data Analyst - Custom Analytics (Telecom/Technology Vert ...</td> <td>Research Analyst                            </td> <td>nan                              </td> <td>1                       </td> <td>False  </td> <td>2                 </td>\n",
       "        </tr>\n",
       "        <tr>\n",
       "            <td>Data Scientist                                  </td> <td>Global Data, Insights & Analytics Intern</td> <td>Student Programming Instructor      </td> <td>Student Assistant                                           </td> <td>Data Analytics Intern                       </td> <td>nan                              </td> <td>2                       </td> <td>False  </td> <td>2                 </td>\n",
       "        </tr>\n",
       "    </tbody>\n",
       "</table>\n",
       "<p>... (43 rows omitted)</p>"
      ],
      "text/plain": [
       "organization_title_1                             | organization_title_2                     | organization_title_3                 | organization_title_4                                         | organization_title_5                         | organization_title_6              | Internships_and_Research | Masters | Analyst_Experience\n",
       "Data Scientist                                   | Product Science Intern                   | Data Science Intern                  | Analytics Intern                                             | Marketing Associate                          | Marketing Analytics Intern        | 4                        | False   | 2\n",
       "Data Scientist (AEP) & Technical Consultant (AA) | Data Scientist & NIH Fellow              | Resident Assistant                   | Data Science Consultant                                      | Campus Ambassador                            | Data Analyst                      | 0                        | False   | 1\n",
       "Data Scientist                                   | Data Science Intern                      | Desktop Consultant                   | Project Manager for Data Science Society at Berkeley         | Shift Supervisor and Student Tech Consultant | Data Analytics Student Consultant | 1                        | False   | 1\n",
       "Data Scientist                                   | Product Analyst                          | Associate Product Analyst            | Data Science Intern                                          | Product Analyst Intern                       | nan                               | 2                        | False   | 3\n",
       "Data Scientist                                   | Data Scientist                           | Data Science Intern                  | e-4P 'Chief of Staff' & Data Analyst Intern                  | Marketing and Data Analyst Intern            | Student Consultant                | 3                        | False   | 2\n",
       "Lynx Data Scientist                              | Data Analyst                             | Business Analyst Intern              | Research Assistant                                           | Administrative Assistant                     | Server                            | 2                        | False   | 2\n",
       "Data Scientist                                   | Support Operations Analyst               | Senior Support Operations Specialist | Media Analyst & Account Manager                              | Resident Assistant                           | Research Assistant                | 1                        | False   | 2\n",
       "Data Scientist                                   | Data Analyst                             | Advanced Analytics Analyst (Intern)  | Associate Marketing Operations Manager (Intern)              | Strategic Markets Analyst (Intern)           | Assistant Product Manager Intern  | 4                        | False   | 3\n",
       "Senior Data Scientist                            | Data Scientist                           | Senior Data Scientist                | Data Analyst - Custom Analytics (Telecom/Technology Vert ... | Research Analyst                             | nan                               | 1                        | False   | 2\n",
       "Data Scientist                                   | Global Data, Insights & Analytics Intern | Student Programming Instructor       | Student Assistant                                            | Data Analytics Intern                        | nan                               | 2                        | False   | 2\n",
       "... (43 rows omitted)"
      ]
     },
     "execution_count": 47,
     "metadata": {},
     "output_type": "execute_result"
    }
   ],
   "source": [
    "analyst_table = copy.select(\"organization_title_1\", \"organization_title_2\", \n",
    "           \"organization_title_3\", \n",
    "           \"organization_title_4\", \n",
    "           \"organization_title_5\", \n",
    "           \"organization_title_6\",\n",
    "           \"Internships_and_Research\",\n",
    "           \"Masters\", \"Analyst_Experience\").where(\"Masters\", False).where(\"Analyst_Experience\", are.above(0))\n",
    "analyst_table"
   ]
  },
  {
   "cell_type": "code",
   "execution_count": null,
   "metadata": {},
   "outputs": [],
   "source": []
  },
  {
   "cell_type": "code",
   "execution_count": null,
   "metadata": {},
   "outputs": [],
   "source": []
  },
  {
   "cell_type": "code",
   "execution_count": 48,
   "metadata": {},
   "outputs": [
    {
     "data": {
      "text/plain": [
       "0.3136094674556213"
      ]
     },
     "execution_count": 48,
     "metadata": {},
     "output_type": "execute_result"
    }
   ],
   "source": [
    "len(analyst_table.column(0)) / 169"
   ]
  },
  {
   "cell_type": "markdown",
   "metadata": {},
   "source": [
    "# Finding: 31% of data scientists without masters degrees have previous experience as data analysts or some other form of analyst position. "
   ]
  },
  {
   "cell_type": "code",
   "execution_count": 49,
   "metadata": {},
   "outputs": [
    {
     "data": {
      "text/plain": [
       "0.40601503759398494"
      ]
     },
     "execution_count": 49,
     "metadata": {},
     "output_type": "execute_result"
    }
   ],
   "source": [
    "len(copy.where(\"Analyst_Experience\", are.above(0)).column(0)) / 798"
   ]
  },
  {
   "cell_type": "markdown",
   "metadata": {},
   "source": [
    "# Finding: 40% of data scientists have previous experience as data analysts or some other form of analyst position. "
   ]
  },
  {
   "cell_type": "code",
   "execution_count": 50,
   "metadata": {},
   "outputs": [
    {
     "data": {
      "text/html": [
       "<table border=\"1\" class=\"dataframe\">\n",
       "    <thead>\n",
       "        <tr>\n",
       "            <th>education_fos_1</th> <th>count</th>\n",
       "        </tr>\n",
       "    </thead>\n",
       "    <tbody>\n",
       "        <tr>\n",
       "            <td>Data Science   </td> <td>8    </td>\n",
       "        </tr>\n",
       "    </tbody>\n",
       "</table>"
      ],
      "text/plain": [
       "education_fos_1 | count\n",
       "Data Science    | 8"
      ]
     },
     "execution_count": 50,
     "metadata": {},
     "output_type": "execute_result"
    }
   ],
   "source": [
    "ucb_ds_students_no_masters = copy.where(\"Went_to_Berkeley\", True).where(\"Masters\", False).select(\"education_fos_1\").group(\"education_fos_1\")\n",
    "ucb_ds_students_no_masters.where(\"education_fos_1\", \"Data Science\")"
   ]
  },
  {
   "cell_type": "code",
   "execution_count": 51,
   "metadata": {},
   "outputs": [
    {
     "data": {
      "text/html": [
       "<table border=\"1\" class=\"dataframe\">\n",
       "    <thead>\n",
       "        <tr>\n",
       "            <th>education_fos_1</th> <th>count</th>\n",
       "        </tr>\n",
       "    </thead>\n",
       "    <tbody>\n",
       "        <tr>\n",
       "            <td>Data Science   </td> <td>49   </td>\n",
       "        </tr>\n",
       "    </tbody>\n",
       "</table>"
      ],
      "text/plain": [
       "education_fos_1 | count\n",
       "Data Science    | 49"
      ]
     },
     "execution_count": 51,
     "metadata": {},
     "output_type": "execute_result"
    }
   ],
   "source": [
    "ucb_ds_students_no_masters = copy.where(\"Went_to_Berkeley\", True).where(\"Masters\", True).select(\"education_fos_1\").group(\"education_fos_1\")\n",
    "ucb_ds_students_no_masters.where(\"education_fos_1\", \"Data Science\")"
   ]
  },
  {
   "cell_type": "code",
   "execution_count": 52,
   "metadata": {},
   "outputs": [
    {
     "data": {
      "text/plain": [
       "0.16326530612244897"
      ]
     },
     "execution_count": 52,
     "metadata": {},
     "output_type": "execute_result"
    }
   ],
   "source": [
    "8 / 49"
   ]
  },
  {
   "cell_type": "markdown",
   "metadata": {},
   "source": [
    "# Finding: 16% of UCB data science students landed data science roles without masters "
   ]
  },
  {
   "cell_type": "code",
   "execution_count": null,
   "metadata": {},
   "outputs": [],
   "source": [
    "# given only bachelors prob of data science job"
   ]
  },
  {
   "cell_type": "code",
   "execution_count": null,
   "metadata": {},
   "outputs": [],
   "source": [
    "# predictive function\n",
    "\n",
    "\n",
    "# number_of_internships = int \n",
    "# degree_level = string\n",
    "# analyst_experience = boolean\n",
    "\n",
    "\n",
    "def given_you_have(number_of_internships, degree_level, analyst_experience):\n",
    "    new_table = copy.where(\"Internships_and_Research\", are.bellow_or_equal_to(number_of_internships))\n",
    "    \n",
    "    "
   ]
  },
  {
   "cell_type": "markdown",
   "metadata": {},
   "source": [
    "# Step 5: Share\n",
    "Everyone shares their results differently so be sure to summarize your results with clear and enticing visuals of your analysis using data viz tools like graphs or dashboards. This is your chance to show the stakeholders you have solved their problem and how you got there. Sharing will certainly help your team:  \n",
    "\n",
    "#### Make better decisions\n",
    "#### Make more informed decisions\n",
    "#### Lead to stronger outcomes\n",
    "#### Successfully communicate your findings\n",
    "## Questions to ask yourself in this step:\n",
    "#### How can I make what I present to the stakeholders engaging and easy to understand?\n",
    "I want to create a dashboard or powerpoint with these findings\n",
    "#### What would help me understand this if I were the listener?"
   ]
  },
  {
   "cell_type": "code",
   "execution_count": null,
   "metadata": {},
   "outputs": [],
   "source": []
  },
  {
   "cell_type": "code",
   "execution_count": null,
   "metadata": {},
   "outputs": [],
   "source": []
  },
  {
   "cell_type": "markdown",
   "metadata": {},
   "source": [
    "# Step 6: Act\n",
    "Now it’s time to act on your data. You will take everything you have learned from your data analysis and put it to use. This could mean providing your stakeholders with recommendations based on your findings so they can make data-driven decisions.\n",
    "\n",
    "## Questions to ask yourself in this step:\n",
    "#### How can I use the feedback I received during the share phase (step 5) to actually meet the stakeholder’s needs and expectations?\n",
    "These six steps can help you to break the data analysis process into smaller, manageable parts, which is called structured thinking. This process involves four basic activities:\n",
    "\n",
    "#### Recognizing the current problem or situation\n",
    "#### Organizing available information \n",
    "#### Revealing gaps and opportunities\n",
    "#### Identifying your options"
   ]
  },
  {
   "cell_type": "code",
   "execution_count": null,
   "metadata": {},
   "outputs": [],
   "source": []
  }
 ],
 "metadata": {
  "kernelspec": {
   "display_name": "Python 3",
   "language": "python",
   "name": "python3"
  },
  "language_info": {
   "codemirror_mode": {
    "name": "ipython",
    "version": 3
   },
   "file_extension": ".py",
   "mimetype": "text/x-python",
   "name": "python",
   "nbconvert_exporter": "python",
   "pygments_lexer": "ipython3",
   "version": "3.8.8"
  }
 },
 "nbformat": 4,
 "nbformat_minor": 4
}
